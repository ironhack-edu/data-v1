{
 "cells": [
  {
   "cell_type": "markdown",
   "metadata": {},
   "source": [
    "# Before your start:\n",
    "- Read the README.md file\n",
    "- Comment as much as you can and use the resources in the README.md file\n",
    "- Happy learning!"
   ]
  },
  {
   "cell_type": "markdown",
   "metadata": {},
   "source": [
    "# Challenge 1 - Matrix Functions\n",
    "\n",
    "#### We would like to create our own matrix. To make life simple for us, we can represent matrices as a list of lists. For the sake of simplicity, we will assume that the maximum number of dimensions a matrix will have is 2.\n",
    "\n",
    "The most basic thing we would like to do with two matrices is to add them together. To add two matrices, we must perform a number of checks. The first check we would like to perform is whether the matrix is two dimesional. This is because we want to limit ourselves to two dimensional matrices to simplify our problem. In the cell below write a function that checks if a matrix is two dimesional. "
   ]
  },
  {
   "cell_type": "code",
   "execution_count": 1,
   "metadata": {},
   "outputs": [],
   "source": [
    "def twodim(mat):\n",
    "    if isinstance(mat,list):\n",
    "        if any(isinstance(item, list) for item in mat):\n",
    "            if any(isinstance(sub_item, list) for item in mat for sub_item in item):\n",
    "                raise TypeError(\"Depth of matrix must be 2.\");\n",
    "            else:\n",
    "                return True;\n",
    "        else:\n",
    "            raise TypeError(\"Depth of matrix must be 2.\");\n",
    "    else:\n",
    "        raise TypeError(\"Argument must be a list.\");"
   ]
  },
  {
   "cell_type": "code",
   "execution_count": 2,
   "metadata": {},
   "outputs": [
    {
     "data": {
      "text/plain": [
       "True"
      ]
     },
     "execution_count": 2,
     "metadata": {},
     "output_type": "execute_result"
    }
   ],
   "source": [
    "twodim([[1,2],[1,2,3],[1,2,3]])"
   ]
  },
  {
   "cell_type": "markdown",
   "metadata": {},
   "source": [
    "#### Next, we will write a function that checks for the number of rows and columns of a matrix. \n",
    "\n",
    "Recall that the outer list will tell us the number of rows and the inner lists will tell us the number of columns. Make sure that all inner lists are of the same length."
   ]
  },
  {
   "cell_type": "code",
   "execution_count": 3,
   "metadata": {},
   "outputs": [],
   "source": [
    "def rowcolumn(mat):\n",
    "    twodim(mat);\n",
    "\n",
    "    rows = len(mat);\n",
    "    columns = [len(item) for item in mat];\n",
    "\n",
    "    if len(set(columns)) == 1:\n",
    "        return (rows, columns[0]);\n",
    "    else:\n",
    "        raise ValueError(\"Matrix columns do not have the same length.\");"
   ]
  },
  {
   "cell_type": "code",
   "execution_count": 4,
   "metadata": {},
   "outputs": [
    {
     "data": {
      "text/plain": [
       "(3, 4)"
      ]
     },
     "execution_count": 4,
     "metadata": {},
     "output_type": "execute_result"
    }
   ],
   "source": [
    "rowcolumn([[1,2,3,4],[1,2,3,4],[1,2,3,4]])"
   ]
  },
  {
   "cell_type": "markdown",
   "metadata": {},
   "source": [
    "#### Our next step is to write a function that compares two matrices and tells us whether they are of equal size.\n",
    "\n",
    "In this function we will check whether the number of rows and number of columns is the same."
   ]
  },
  {
   "cell_type": "code",
   "execution_count": 5,
   "metadata": {},
   "outputs": [],
   "source": [
    "def compare(mat1, mat2):\n",
    "    size1 = rowcolumn(mat1)\n",
    "    size2 = rowcolumn(mat2)\n",
    "    \n",
    "    if  size1 == size2:\n",
    "        return size1;\n",
    "    else:\n",
    "        raise ValueError(\"Matrices do not have the same size\")"
   ]
  },
  {
   "cell_type": "code",
   "execution_count": 6,
   "metadata": {},
   "outputs": [
    {
     "data": {
      "text/plain": [
       "(2, 3)"
      ]
     },
     "execution_count": 6,
     "metadata": {},
     "output_type": "execute_result"
    }
   ],
   "source": [
    "compare([[1,2,3],[4,5,6]],[[7,8,9],[10,11,12]])"
   ]
  },
  {
   "cell_type": "markdown",
   "metadata": {},
   "source": [
    "#### Now that we have all the tools we need, write a function that adds two matrices together. \n",
    "\n",
    "Remember that a matrix is represented as a list of lists. Therefore, we must add each element in the list. The plus symbol is used for concatenating two lists and not for adding every element in two lists."
   ]
  },
  {
   "cell_type": "code",
   "execution_count": 7,
   "metadata": {},
   "outputs": [],
   "source": [
    "def addition(mat1, mat2):\n",
    "    rows, cols = compare(mat1, mat2);\n",
    "    return [[mat1[r][c] + mat2[r][c] for c in range(cols)] for r in range(rows)];"
   ]
  },
  {
   "cell_type": "code",
   "execution_count": 8,
   "metadata": {},
   "outputs": [
    {
     "data": {
      "text/plain": [
       "[[8, 10, 12], [14, 16, 18]]"
      ]
     },
     "execution_count": 8,
     "metadata": {},
     "output_type": "execute_result"
    }
   ],
   "source": [
    "addition([[1,2,3],[4,5,6]], [[7,8,9],[10,11,12]])"
   ]
  },
  {
   "cell_type": "markdown",
   "metadata": {},
   "source": [
    "# Challenge 2 - Creating the Class\n",
    "\n",
    "In the cell below, you will be creating the class Matrix2D. Use the functions you have written above and tweak them according to the instructions in the comments. You got this!"
   ]
  },
  {
   "cell_type": "code",
   "execution_count": 9,
   "metadata": {},
   "outputs": [],
   "source": [
    "class Matrix2D:\n",
    "    \n",
    "    def __init__(self, mat):\n",
    "        self.mat = mat;\n",
    "        self.rows, self.cols = self.rowcolumn(self.mat);\n",
    "    \n",
    "    def twodim(self, mat):\n",
    "        if isinstance(mat,list):\n",
    "            if any(isinstance(item, list) for item in mat):\n",
    "                if any(isinstance(sub_item, list) for item in mat for sub_item in item):\n",
    "                    raise TypeError(\"Depth of matrix must be 2.\");\n",
    "                else:\n",
    "                    return True;\n",
    "            else:\n",
    "                raise TypeError(\"Depth of matrix must be 2.\");\n",
    "        else:\n",
    "            raise TypeError(\"Argument must be a list.\");\n",
    "            \n",
    "    def rowcolumn(self, mat):\n",
    "        self.twodim(mat)\n",
    "        \n",
    "        rows = len(mat);\n",
    "        columns = [len(item) for item in mat];\n",
    "\n",
    "        if len(set(columns)) == 1:\n",
    "            return (rows, columns[0]);\n",
    "        else:\n",
    "            raise ValueError(\"Matrix columns do not have the same length.\");\n",
    "\n",
    "    def compare(self, mat1, mat2):\n",
    "        size1 = self.rowcolumn(mat1);\n",
    "        size2 = self.rowcolumn(mat2);\n",
    "\n",
    "        if  size1 == size2:\n",
    "            return size1;\n",
    "        else:\n",
    "            raise ValueError(\"Matrices do not have the same size\")\n",
    "\n",
    "    def addition(self, matrix):\n",
    "        self.compare(self.mat, matrix.mat);\n",
    "        rows, cols = self.rowcolumn(self.mat);\n",
    "        return Matrix2D([[self.mat[r][c] + matrix.mat[r][c] for c in range(cols)] for r in range(rows)]);"
   ]
  },
  {
   "cell_type": "code",
   "execution_count": 10,
   "metadata": {},
   "outputs": [
    {
     "data": {
      "text/plain": [
       "[[8, 10, 12], [14, 16, 18]]"
      ]
     },
     "execution_count": 10,
     "metadata": {},
     "output_type": "execute_result"
    }
   ],
   "source": [
    "Matrix2D([[1,2,3],[4,5,6]]).addition(Matrix2D([[7,8,9],[10,11,12]])).mat"
   ]
  }
 ],
 "metadata": {
  "kernelspec": {
   "display_name": "Python 3",
   "language": "python",
   "name": "python3"
  },
  "language_info": {
   "codemirror_mode": {
    "name": "ipython",
    "version": 3
   },
   "file_extension": ".py",
   "mimetype": "text/x-python",
   "name": "python",
   "nbconvert_exporter": "python",
   "pygments_lexer": "ipython3",
   "version": "3.7.2"
  }
 },
 "nbformat": 4,
 "nbformat_minor": 2
}
