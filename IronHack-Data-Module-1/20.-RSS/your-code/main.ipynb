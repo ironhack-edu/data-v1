{
 "cells": [
  {
   "cell_type": "markdown",
   "metadata": {},
   "source": [
    "# Working with RSS Feeds Lab\n",
    "\n",
    "Complete the following set of exercises to solidify your knowledge of parsing RSS feeds and extracting information from them."
   ]
  },
  {
   "cell_type": "code",
   "execution_count": 1,
   "metadata": {},
   "outputs": [],
   "source": [
    "import feedparser;"
   ]
  },
  {
   "cell_type": "markdown",
   "metadata": {},
   "source": [
    "### 1. Use feedparser to parse the following RSS feed URL."
   ]
  },
  {
   "cell_type": "code",
   "execution_count": 2,
   "metadata": {},
   "outputs": [],
   "source": [
    "url = 'http://feeds.feedburner.com/oreilly/radar/atom';"
   ]
  },
  {
   "cell_type": "code",
   "execution_count": 3,
   "metadata": {},
   "outputs": [],
   "source": [
    "feedburner = feedparser.parse(url);"
   ]
  },
  {
   "cell_type": "markdown",
   "metadata": {},
   "source": [
    "### 2. Obtain a list of components (keys) that are available for this feed."
   ]
  },
  {
   "cell_type": "code",
   "execution_count": 4,
   "metadata": {},
   "outputs": [
    {
     "name": "stdout",
     "output_type": "stream",
     "text": [
      "['feed', 'entries', 'bozo', 'headers', 'etag', 'updated', 'updated_parsed', 'href', 'status', 'encoding', 'version', 'namespaces']\n"
     ]
    }
   ],
   "source": [
    "key_list = list(feedburner.keys());\n",
    "print(key_list);"
   ]
  },
  {
   "cell_type": "markdown",
   "metadata": {},
   "source": [
    "### 3. Obtain a list of components (keys) that are available for the *feed* component of this RSS feed."
   ]
  },
  {
   "cell_type": "code",
   "execution_count": 5,
   "metadata": {},
   "outputs": [
    {
     "name": "stdout",
     "output_type": "stream",
     "text": [
      "['title', 'title_detail', 'id', 'guidislink', 'link', 'updated', 'updated_parsed', 'subtitle', 'subtitle_detail', 'links', 'authors', 'author_detail', 'author', 'feedburner_info', 'geo_lat', 'geo_long', 'feedburner_emailserviceid', 'feedburner_feedburnerhostname']\n"
     ]
    }
   ],
   "source": [
    "feed_key_list = list(feedburner.feed.keys());\n",
    "print(feed_key_list);"
   ]
  },
  {
   "cell_type": "markdown",
   "metadata": {},
   "source": [
    "### 4. Extract and print the feed title, subtitle, author, and link."
   ]
  },
  {
   "cell_type": "code",
   "execution_count": 6,
   "metadata": {},
   "outputs": [],
   "source": [
    "title = feedburner.feed.title;\n",
    "subtitle = feedburner.feed.subtitle;\n",
    "author = feedburner.feed.author;\n",
    "link = feedburner.feed.link;"
   ]
  },
  {
   "cell_type": "code",
   "execution_count": 7,
   "metadata": {},
   "outputs": [
    {
     "name": "stdout",
     "output_type": "stream",
     "text": [
      "Title: All - O'Reilly Media. \n",
      "Subtitle: All of our Ideas and Learning material from all of our topics.. \n",
      "Author: O'Reilly Media. \n",
      "Link: https://www.oreilly.com.\n"
     ]
    }
   ],
   "source": [
    "print('Title: {}. \\nSubtitle: {}. \\nAuthor: {}. \\nLink: {}.'.format(title, subtitle, author, link));"
   ]
  },
  {
   "cell_type": "markdown",
   "metadata": {},
   "source": [
    "### 5. Count the number of entries that are contained in this RSS feed."
   ]
  },
  {
   "cell_type": "code",
   "execution_count": 8,
   "metadata": {},
   "outputs": [
    {
     "data": {
      "text/plain": [
       "60"
      ]
     },
     "execution_count": 8,
     "metadata": {},
     "output_type": "execute_result"
    }
   ],
   "source": [
    "len(feedburner.entries)"
   ]
  },
  {
   "cell_type": "markdown",
   "metadata": {},
   "source": [
    "### 6. Obtain a list of components (keys) available for an entry.\n",
    "\n",
    "*Hint: Remember to index first before requesting the keys*"
   ]
  },
  {
   "cell_type": "code",
   "execution_count": 9,
   "metadata": {},
   "outputs": [
    {
     "name": "stdout",
     "output_type": "stream",
     "text": [
      "['title', 'title_detail', 'updated', 'updated_parsed', 'id', 'guidislink', 'link', 'content', 'summary', 'links', 'authors', 'author_detail', 'author', 'feedburner_origlink']\n"
     ]
    }
   ],
   "source": [
    "entries_key_list = list(feedburner.entries[0].keys());\n",
    "print(entries_key_list);"
   ]
  },
  {
   "cell_type": "markdown",
   "metadata": {},
   "source": [
    "### 7. Extract a list of entry titles."
   ]
  },
  {
   "cell_type": "code",
   "execution_count": 10,
   "metadata": {},
   "outputs": [],
   "source": [
    "titles = [entry['title'] for entry in feedburner.entries];"
   ]
  },
  {
   "cell_type": "markdown",
   "metadata": {},
   "source": [
    "### 8. Calculate the percentage of \"Four short links\" entry titles."
   ]
  },
  {
   "cell_type": "code",
   "execution_count": 11,
   "metadata": {},
   "outputs": [],
   "source": [
    "four_short_entries = [title for title in titles if \"Four short links\" in title];\n",
    "percentage = 100 * len(four_short_entries) / len(titles);"
   ]
  },
  {
   "cell_type": "code",
   "execution_count": 12,
   "metadata": {},
   "outputs": [
    {
     "name": "stdout",
     "output_type": "stream",
     "text": [
      "55.0%\n"
     ]
    }
   ],
   "source": [
    "print(\"{}%\".format(percentage));"
   ]
  },
  {
   "cell_type": "markdown",
   "metadata": {},
   "source": [
    "### 9. Create a Pandas data frame from the feed's entries."
   ]
  },
  {
   "cell_type": "code",
   "execution_count": 13,
   "metadata": {},
   "outputs": [],
   "source": [
    "import pandas as pd;"
   ]
  },
  {
   "cell_type": "code",
   "execution_count": 14,
   "metadata": {},
   "outputs": [],
   "source": [
    "entries = pd.DataFrame(feedburner.entries);"
   ]
  },
  {
   "cell_type": "markdown",
   "metadata": {},
   "source": [
    "### 10. Count the number of entries per author and sort them in descending order."
   ]
  },
  {
   "cell_type": "code",
   "execution_count": 15,
   "metadata": {},
   "outputs": [
    {
     "data": {
      "text/plain": [
       "author\n",
       "Nat Torkington                 33\n",
       "Ben Lorica                      7\n",
       "Ben Lorica, Paco Nathan         2\n",
       "Mike Loukides                   2\n",
       "Jennifer Pollock                1\n",
       "Ben Lorica, Mike Loukides       1\n",
       "Deepak Kanungo                  1\n",
       "Francesca Lazzeri               1\n",
       "Glenn Vanderburg                1\n",
       "J.A. Ginsburg                   1\n",
       "Tyler Ortman, Jeff Bleiel       1\n",
       "Mac Slocum                      1\n",
       "Trisha Gee                      1\n",
       "Neal Ford, Mark Richards        1\n",
       "Nikki McDonald, John Devins     1\n",
       "Roger Magoulas, Andy Oram       1\n",
       "Stuart Halloway                 1\n",
       "Tamar Eilam                     1\n",
       "Matt Stine                      1\n",
       "dtype: int64"
      ]
     },
     "execution_count": 15,
     "metadata": {},
     "output_type": "execute_result"
    }
   ],
   "source": [
    "num_entries = entries.groupby(['author']).size().sort_values(ascending=False);\n",
    "num_entries"
   ]
  },
  {
   "cell_type": "markdown",
   "metadata": {},
   "source": [
    "### 11. Add a new column to the data frame that contains the length (number of characters) of each entry title. Return a data frame that contains the title, author, and title length of each entry in descending order (longest title length at the top)."
   ]
  },
  {
   "cell_type": "code",
   "execution_count": 16,
   "metadata": {},
   "outputs": [
    {
     "data": {
      "text/html": [
       "<div>\n",
       "<style scoped>\n",
       "    .dataframe tbody tr th:only-of-type {\n",
       "        vertical-align: middle;\n",
       "    }\n",
       "\n",
       "    .dataframe tbody tr th {\n",
       "        vertical-align: top;\n",
       "    }\n",
       "\n",
       "    .dataframe thead th {\n",
       "        text-align: right;\n",
       "    }\n",
       "</style>\n",
       "<table border=\"1\" class=\"dataframe\">\n",
       "  <thead>\n",
       "    <tr style=\"text-align: right;\">\n",
       "      <th></th>\n",
       "      <th>author</th>\n",
       "      <th>title</th>\n",
       "      <th>title_length</th>\n",
       "    </tr>\n",
       "  </thead>\n",
       "  <tbody>\n",
       "    <tr>\n",
       "      <th>52</th>\n",
       "      <td>Deepak Kanungo</td>\n",
       "      <td>The trinity of errors in financial models: An ...</td>\n",
       "      <td>96</td>\n",
       "    </tr>\n",
       "    <tr>\n",
       "      <th>17</th>\n",
       "      <td>Ben Lorica</td>\n",
       "      <td>The technical, societal, and cultural challeng...</td>\n",
       "      <td>86</td>\n",
       "    </tr>\n",
       "    <tr>\n",
       "      <th>32</th>\n",
       "      <td>Mac Slocum</td>\n",
       "      <td>Highlights from the O'Reilly Software Architec...</td>\n",
       "      <td>78</td>\n",
       "    </tr>\n",
       "    <tr>\n",
       "      <th>37</th>\n",
       "      <td>Ben Lorica</td>\n",
       "      <td>Artificial intelligence and machine learning a...</td>\n",
       "      <td>76</td>\n",
       "    </tr>\n",
       "    <tr>\n",
       "      <th>12</th>\n",
       "      <td>Ben Lorica, Paco Nathan</td>\n",
       "      <td>Three surveys of AI adoption reveal key advice...</td>\n",
       "      <td>73</td>\n",
       "    </tr>\n",
       "    <tr>\n",
       "      <th>3</th>\n",
       "      <td>Ben Lorica, Mike Loukides</td>\n",
       "      <td>You created a machine learning application. No...</td>\n",
       "      <td>70</td>\n",
       "    </tr>\n",
       "    <tr>\n",
       "      <th>41</th>\n",
       "      <td>Ben Lorica</td>\n",
       "      <td>Using machine learning and analytics to attrac...</td>\n",
       "      <td>68</td>\n",
       "    </tr>\n",
       "    <tr>\n",
       "      <th>23</th>\n",
       "      <td>Ben Lorica</td>\n",
       "      <td>Core technologies and tools for AI, big data, ...</td>\n",
       "      <td>65</td>\n",
       "    </tr>\n",
       "    <tr>\n",
       "      <th>30</th>\n",
       "      <td>NaN</td>\n",
       "      <td>170+ live online training courses opened for M...</td>\n",
       "      <td>60</td>\n",
       "    </tr>\n",
       "    <tr>\n",
       "      <th>44</th>\n",
       "      <td>Ben Lorica, Paco Nathan</td>\n",
       "      <td>How companies are building sustainable AI and ...</td>\n",
       "      <td>60</td>\n",
       "    </tr>\n",
       "    <tr>\n",
       "      <th>59</th>\n",
       "      <td>Tyler Ortman, Jeff Bleiel</td>\n",
       "      <td>What lies ahead for Python, Java, Go, C#, Kotl...</td>\n",
       "      <td>58</td>\n",
       "    </tr>\n",
       "    <tr>\n",
       "      <th>6</th>\n",
       "      <td>Francesca Lazzeri</td>\n",
       "      <td>3 reasons to add deep learning to your time se...</td>\n",
       "      <td>58</td>\n",
       "    </tr>\n",
       "    <tr>\n",
       "      <th>2</th>\n",
       "      <td>Ben Lorica</td>\n",
       "      <td>Why your attention is like a piece of conteste...</td>\n",
       "      <td>57</td>\n",
       "    </tr>\n",
       "    <tr>\n",
       "      <th>54</th>\n",
       "      <td>Nikki McDonald, John Devins</td>\n",
       "      <td>9 trends to watch in systems engineering and o...</td>\n",
       "      <td>55</td>\n",
       "    </tr>\n",
       "    <tr>\n",
       "      <th>26</th>\n",
       "      <td>Glenn Vanderburg</td>\n",
       "      <td>Roaming free: The power of reading beyond your...</td>\n",
       "      <td>52</td>\n",
       "    </tr>\n",
       "    <tr>\n",
       "      <th>27</th>\n",
       "      <td>Matt Stine</td>\n",
       "      <td>Design and architecture: Special Dumpster Fire...</td>\n",
       "      <td>51</td>\n",
       "    </tr>\n",
       "    <tr>\n",
       "      <th>34</th>\n",
       "      <td>Neal Ford, Mark Richards</td>\n",
       "      <td>From the trenches: An interview with Mark Rich...</td>\n",
       "      <td>50</td>\n",
       "    </tr>\n",
       "    <tr>\n",
       "      <th>28</th>\n",
       "      <td>Stuart Halloway</td>\n",
       "      <td>Design after Agile: How to succeed by trying less</td>\n",
       "      <td>49</td>\n",
       "    </tr>\n",
       "    <tr>\n",
       "      <th>57</th>\n",
       "      <td>Ben Lorica</td>\n",
       "      <td>How machine learning impacts information security</td>\n",
       "      <td>49</td>\n",
       "    </tr>\n",
       "    <tr>\n",
       "      <th>36</th>\n",
       "      <td>Roger Magoulas, Andy Oram</td>\n",
       "      <td>3 emerging trends tech leaders should watch</td>\n",
       "      <td>43</td>\n",
       "    </tr>\n",
       "    <tr>\n",
       "      <th>10</th>\n",
       "      <td>Ben Lorica</td>\n",
       "      <td>The evolution and expanding utility of Ray</td>\n",
       "      <td>42</td>\n",
       "    </tr>\n",
       "    <tr>\n",
       "      <th>31</th>\n",
       "      <td>Tamar Eilam</td>\n",
       "      <td>The future of cloud-native programming</td>\n",
       "      <td>38</td>\n",
       "    </tr>\n",
       "    <tr>\n",
       "      <th>38</th>\n",
       "      <td>Mike Loukides</td>\n",
       "      <td>Reinforcement learning for the birds</td>\n",
       "      <td>36</td>\n",
       "    </tr>\n",
       "    <tr>\n",
       "      <th>5</th>\n",
       "      <td>Nat Torkington</td>\n",
       "      <td>Four short links: 27 February 2019</td>\n",
       "      <td>34</td>\n",
       "    </tr>\n",
       "    <tr>\n",
       "      <th>7</th>\n",
       "      <td>Nat Torkington</td>\n",
       "      <td>Four short links: 26 February 2019</td>\n",
       "      <td>34</td>\n",
       "    </tr>\n",
       "    <tr>\n",
       "      <th>11</th>\n",
       "      <td>Nat Torkington</td>\n",
       "      <td>Four short links: 21 February 2019</td>\n",
       "      <td>34</td>\n",
       "    </tr>\n",
       "    <tr>\n",
       "      <th>18</th>\n",
       "      <td>Nat Torkington</td>\n",
       "      <td>Four short links: 14 February 2019</td>\n",
       "      <td>34</td>\n",
       "    </tr>\n",
       "    <tr>\n",
       "      <th>19</th>\n",
       "      <td>Nat Torkington</td>\n",
       "      <td>Four short links: 13 February 2019</td>\n",
       "      <td>34</td>\n",
       "    </tr>\n",
       "    <tr>\n",
       "      <th>13</th>\n",
       "      <td>Nat Torkington</td>\n",
       "      <td>Four short links: 20 February 2019</td>\n",
       "      <td>34</td>\n",
       "    </tr>\n",
       "    <tr>\n",
       "      <th>14</th>\n",
       "      <td>Nat Torkington</td>\n",
       "      <td>Four short links: 19 February 2019</td>\n",
       "      <td>34</td>\n",
       "    </tr>\n",
       "    <tr>\n",
       "      <th>15</th>\n",
       "      <td>Nat Torkington</td>\n",
       "      <td>Four short links: 18 February 2019</td>\n",
       "      <td>34</td>\n",
       "    </tr>\n",
       "    <tr>\n",
       "      <th>16</th>\n",
       "      <td>Nat Torkington</td>\n",
       "      <td>Four short links: 15 February 2019</td>\n",
       "      <td>34</td>\n",
       "    </tr>\n",
       "    <tr>\n",
       "      <th>9</th>\n",
       "      <td>Nat Torkington</td>\n",
       "      <td>Four short links: 22 February 2019</td>\n",
       "      <td>34</td>\n",
       "    </tr>\n",
       "    <tr>\n",
       "      <th>8</th>\n",
       "      <td>Nat Torkington</td>\n",
       "      <td>Four short links: 25 February 2019</td>\n",
       "      <td>34</td>\n",
       "    </tr>\n",
       "    <tr>\n",
       "      <th>4</th>\n",
       "      <td>Nat Torkington</td>\n",
       "      <td>Four short links: 28 February 2019</td>\n",
       "      <td>34</td>\n",
       "    </tr>\n",
       "    <tr>\n",
       "      <th>21</th>\n",
       "      <td>Nat Torkington</td>\n",
       "      <td>Four short links: 12 February 2019</td>\n",
       "      <td>34</td>\n",
       "    </tr>\n",
       "    <tr>\n",
       "      <th>22</th>\n",
       "      <td>Nat Torkington</td>\n",
       "      <td>Four short links: 11 February 2019</td>\n",
       "      <td>34</td>\n",
       "    </tr>\n",
       "    <tr>\n",
       "      <th>53</th>\n",
       "      <td>Nat Torkington</td>\n",
       "      <td>Four short links: 22 January 2019</td>\n",
       "      <td>33</td>\n",
       "    </tr>\n",
       "    <tr>\n",
       "      <th>58</th>\n",
       "      <td>Nat Torkington</td>\n",
       "      <td>Four short links: 17 January 2019</td>\n",
       "      <td>33</td>\n",
       "    </tr>\n",
       "    <tr>\n",
       "      <th>55</th>\n",
       "      <td>Nat Torkington</td>\n",
       "      <td>Four short links: 21 January 2019</td>\n",
       "      <td>33</td>\n",
       "    </tr>\n",
       "    <tr>\n",
       "      <th>51</th>\n",
       "      <td>Nat Torkington</td>\n",
       "      <td>Four short links: 23 January 2019</td>\n",
       "      <td>33</td>\n",
       "    </tr>\n",
       "    <tr>\n",
       "      <th>46</th>\n",
       "      <td>Nat Torkington</td>\n",
       "      <td>Four short links: 28 January 2019</td>\n",
       "      <td>33</td>\n",
       "    </tr>\n",
       "    <tr>\n",
       "      <th>49</th>\n",
       "      <td>Nat Torkington</td>\n",
       "      <td>Four short links: 24 January 2019</td>\n",
       "      <td>33</td>\n",
       "    </tr>\n",
       "    <tr>\n",
       "      <th>48</th>\n",
       "      <td>Nat Torkington</td>\n",
       "      <td>Four short links: 25 January 2019</td>\n",
       "      <td>33</td>\n",
       "    </tr>\n",
       "    <tr>\n",
       "      <th>56</th>\n",
       "      <td>Nat Torkington</td>\n",
       "      <td>Four short links: 18 January 2019</td>\n",
       "      <td>33</td>\n",
       "    </tr>\n",
       "    <tr>\n",
       "      <th>35</th>\n",
       "      <td>Nat Torkington</td>\n",
       "      <td>Four short links: 5 February 2019</td>\n",
       "      <td>33</td>\n",
       "    </tr>\n",
       "    <tr>\n",
       "      <th>45</th>\n",
       "      <td>Nat Torkington</td>\n",
       "      <td>Four short links: 29 January 2019</td>\n",
       "      <td>33</td>\n",
       "    </tr>\n",
       "    <tr>\n",
       "      <th>43</th>\n",
       "      <td>Nat Torkington</td>\n",
       "      <td>Four short links: 30 January 2019</td>\n",
       "      <td>33</td>\n",
       "    </tr>\n",
       "    <tr>\n",
       "      <th>42</th>\n",
       "      <td>Nat Torkington</td>\n",
       "      <td>Four short links: 31 January 2019</td>\n",
       "      <td>33</td>\n",
       "    </tr>\n",
       "    <tr>\n",
       "      <th>40</th>\n",
       "      <td>Nat Torkington</td>\n",
       "      <td>Four short links: 1 February 2019</td>\n",
       "      <td>33</td>\n",
       "    </tr>\n",
       "    <tr>\n",
       "      <th>39</th>\n",
       "      <td>Nat Torkington</td>\n",
       "      <td>Four short links: 4 February 2019</td>\n",
       "      <td>33</td>\n",
       "    </tr>\n",
       "    <tr>\n",
       "      <th>29</th>\n",
       "      <td>Nat Torkington</td>\n",
       "      <td>Four short links: 6 February 2019</td>\n",
       "      <td>33</td>\n",
       "    </tr>\n",
       "    <tr>\n",
       "      <th>25</th>\n",
       "      <td>Nat Torkington</td>\n",
       "      <td>Four short links: 7 February 2019</td>\n",
       "      <td>33</td>\n",
       "    </tr>\n",
       "    <tr>\n",
       "      <th>24</th>\n",
       "      <td>Nat Torkington</td>\n",
       "      <td>Four short links: 8 February 2019</td>\n",
       "      <td>33</td>\n",
       "    </tr>\n",
       "    <tr>\n",
       "      <th>20</th>\n",
       "      <td>J.A. Ginsburg</td>\n",
       "      <td>Prepare for the rise of farm bots</td>\n",
       "      <td>33</td>\n",
       "    </tr>\n",
       "    <tr>\n",
       "      <th>1</th>\n",
       "      <td>Nat Torkington</td>\n",
       "      <td>Four short links: 1 March 2019</td>\n",
       "      <td>30</td>\n",
       "    </tr>\n",
       "    <tr>\n",
       "      <th>0</th>\n",
       "      <td>Nat Torkington</td>\n",
       "      <td>Four short links: 4 March 2019</td>\n",
       "      <td>30</td>\n",
       "    </tr>\n",
       "    <tr>\n",
       "      <th>50</th>\n",
       "      <td>Jennifer Pollock</td>\n",
       "      <td>7 web dev trends on our radar</td>\n",
       "      <td>29</td>\n",
       "    </tr>\n",
       "    <tr>\n",
       "      <th>33</th>\n",
       "      <td>Trisha Gee</td>\n",
       "      <td>Career advice for architects</td>\n",
       "      <td>28</td>\n",
       "    </tr>\n",
       "    <tr>\n",
       "      <th>47</th>\n",
       "      <td>Mike Loukides</td>\n",
       "      <td>Rethinking informed consent</td>\n",
       "      <td>27</td>\n",
       "    </tr>\n",
       "  </tbody>\n",
       "</table>\n",
       "</div>"
      ],
      "text/plain": [
       "                         author  \\\n",
       "52               Deepak Kanungo   \n",
       "17                   Ben Lorica   \n",
       "32                   Mac Slocum   \n",
       "37                   Ben Lorica   \n",
       "12      Ben Lorica, Paco Nathan   \n",
       "3     Ben Lorica, Mike Loukides   \n",
       "41                   Ben Lorica   \n",
       "23                   Ben Lorica   \n",
       "30                          NaN   \n",
       "44      Ben Lorica, Paco Nathan   \n",
       "59    Tyler Ortman, Jeff Bleiel   \n",
       "6             Francesca Lazzeri   \n",
       "2                    Ben Lorica   \n",
       "54  Nikki McDonald, John Devins   \n",
       "26             Glenn Vanderburg   \n",
       "27                   Matt Stine   \n",
       "34     Neal Ford, Mark Richards   \n",
       "28              Stuart Halloway   \n",
       "57                   Ben Lorica   \n",
       "36    Roger Magoulas, Andy Oram   \n",
       "10                   Ben Lorica   \n",
       "31                  Tamar Eilam   \n",
       "38                Mike Loukides   \n",
       "5                Nat Torkington   \n",
       "7                Nat Torkington   \n",
       "11               Nat Torkington   \n",
       "18               Nat Torkington   \n",
       "19               Nat Torkington   \n",
       "13               Nat Torkington   \n",
       "14               Nat Torkington   \n",
       "15               Nat Torkington   \n",
       "16               Nat Torkington   \n",
       "9                Nat Torkington   \n",
       "8                Nat Torkington   \n",
       "4                Nat Torkington   \n",
       "21               Nat Torkington   \n",
       "22               Nat Torkington   \n",
       "53               Nat Torkington   \n",
       "58               Nat Torkington   \n",
       "55               Nat Torkington   \n",
       "51               Nat Torkington   \n",
       "46               Nat Torkington   \n",
       "49               Nat Torkington   \n",
       "48               Nat Torkington   \n",
       "56               Nat Torkington   \n",
       "35               Nat Torkington   \n",
       "45               Nat Torkington   \n",
       "43               Nat Torkington   \n",
       "42               Nat Torkington   \n",
       "40               Nat Torkington   \n",
       "39               Nat Torkington   \n",
       "29               Nat Torkington   \n",
       "25               Nat Torkington   \n",
       "24               Nat Torkington   \n",
       "20                J.A. Ginsburg   \n",
       "1                Nat Torkington   \n",
       "0                Nat Torkington   \n",
       "50             Jennifer Pollock   \n",
       "33                   Trisha Gee   \n",
       "47                Mike Loukides   \n",
       "\n",
       "                                                title  title_length  \n",
       "52  The trinity of errors in financial models: An ...            96  \n",
       "17  The technical, societal, and cultural challeng...            86  \n",
       "32  Highlights from the O'Reilly Software Architec...            78  \n",
       "37  Artificial intelligence and machine learning a...            76  \n",
       "12  Three surveys of AI adoption reveal key advice...            73  \n",
       "3   You created a machine learning application. No...            70  \n",
       "41  Using machine learning and analytics to attrac...            68  \n",
       "23  Core technologies and tools for AI, big data, ...            65  \n",
       "30  170+ live online training courses opened for M...            60  \n",
       "44  How companies are building sustainable AI and ...            60  \n",
       "59  What lies ahead for Python, Java, Go, C#, Kotl...            58  \n",
       "6   3 reasons to add deep learning to your time se...            58  \n",
       "2   Why your attention is like a piece of conteste...            57  \n",
       "54  9 trends to watch in systems engineering and o...            55  \n",
       "26  Roaming free: The power of reading beyond your...            52  \n",
       "27  Design and architecture: Special Dumpster Fire...            51  \n",
       "34  From the trenches: An interview with Mark Rich...            50  \n",
       "28  Design after Agile: How to succeed by trying less            49  \n",
       "57  How machine learning impacts information security            49  \n",
       "36        3 emerging trends tech leaders should watch            43  \n",
       "10         The evolution and expanding utility of Ray            42  \n",
       "31             The future of cloud-native programming            38  \n",
       "38               Reinforcement learning for the birds            36  \n",
       "5                  Four short links: 27 February 2019            34  \n",
       "7                  Four short links: 26 February 2019            34  \n",
       "11                 Four short links: 21 February 2019            34  \n",
       "18                 Four short links: 14 February 2019            34  \n",
       "19                 Four short links: 13 February 2019            34  \n",
       "13                 Four short links: 20 February 2019            34  \n",
       "14                 Four short links: 19 February 2019            34  \n",
       "15                 Four short links: 18 February 2019            34  \n",
       "16                 Four short links: 15 February 2019            34  \n",
       "9                  Four short links: 22 February 2019            34  \n",
       "8                  Four short links: 25 February 2019            34  \n",
       "4                  Four short links: 28 February 2019            34  \n",
       "21                 Four short links: 12 February 2019            34  \n",
       "22                 Four short links: 11 February 2019            34  \n",
       "53                  Four short links: 22 January 2019            33  \n",
       "58                  Four short links: 17 January 2019            33  \n",
       "55                  Four short links: 21 January 2019            33  \n",
       "51                  Four short links: 23 January 2019            33  \n",
       "46                  Four short links: 28 January 2019            33  \n",
       "49                  Four short links: 24 January 2019            33  \n",
       "48                  Four short links: 25 January 2019            33  \n",
       "56                  Four short links: 18 January 2019            33  \n",
       "35                  Four short links: 5 February 2019            33  \n",
       "45                  Four short links: 29 January 2019            33  \n",
       "43                  Four short links: 30 January 2019            33  \n",
       "42                  Four short links: 31 January 2019            33  \n",
       "40                  Four short links: 1 February 2019            33  \n",
       "39                  Four short links: 4 February 2019            33  \n",
       "29                  Four short links: 6 February 2019            33  \n",
       "25                  Four short links: 7 February 2019            33  \n",
       "24                  Four short links: 8 February 2019            33  \n",
       "20                  Prepare for the rise of farm bots            33  \n",
       "1                      Four short links: 1 March 2019            30  \n",
       "0                      Four short links: 4 March 2019            30  \n",
       "50                      7 web dev trends on our radar            29  \n",
       "33                       Career advice for architects            28  \n",
       "47                        Rethinking informed consent            27  "
      ]
     },
     "execution_count": 16,
     "metadata": {},
     "output_type": "execute_result"
    }
   ],
   "source": [
    "entries['title_length'] = entries['title'].str.len();\n",
    "len_entries = entries[['author', 'title', 'title_length']].sort_values('title_length', ascending=False);\n",
    "len_entries"
   ]
  },
  {
   "cell_type": "markdown",
   "metadata": {},
   "source": [
    "### 12. Create a list of entry titles whose summary includes the phrase \"machine learning.\""
   ]
  },
  {
   "cell_type": "code",
   "execution_count": 17,
   "metadata": {},
   "outputs": [
    {
     "data": {
      "text/plain": [
       "['You created a machine learning application. Now make sure it’s secure.',\n",
       " '3 reasons to add deep learning to your time series toolkit',\n",
       " 'Four short links: 25 February 2019',\n",
       " 'The evolution and expanding utility of Ray',\n",
       " 'Three surveys of AI adoption reveal key advice from more mature practices',\n",
       " 'The technical, societal, and cultural challenges that come with the rise of fake media',\n",
       " 'Four short links: 13 February 2019',\n",
       " 'Core technologies and tools for AI, big data, and cloud computing',\n",
       " '170+ live online training courses opened for March and April',\n",
       " '3 emerging trends tech leaders should watch',\n",
       " 'Artificial intelligence and machine learning adoption in European enterprise',\n",
       " 'Reinforcement learning for the birds',\n",
       " 'Using machine learning and analytics to attract and retain employees',\n",
       " 'How companies are building sustainable AI and ML initiatives',\n",
       " 'Rethinking informed consent',\n",
       " '7 web dev trends on our radar',\n",
       " 'The trinity of errors in financial models: An introductory analysis using TensorFlow Probability',\n",
       " '9 trends to watch in systems engineering and operations',\n",
       " 'Four short links: 18 January 2019',\n",
       " 'How machine learning impacts information security',\n",
       " 'What lies ahead for Python, Java, Go, C#, Kotlin, and Rust']"
      ]
     },
     "execution_count": 17,
     "metadata": {},
     "output_type": "execute_result"
    }
   ],
   "source": [
    "ml_titles = entries[entries['summary'].str.contains('machine learning')];\n",
    "ml_titles_list = list(ml_titles['title']);\n",
    "ml_titles_list"
   ]
  }
 ],
 "metadata": {
  "kernelspec": {
   "display_name": "ironhack-3.7",
   "language": "python",
   "name": "ironhack-3.7"
  },
  "language_info": {
   "codemirror_mode": {
    "name": "ipython",
    "version": 3
   },
   "file_extension": ".py",
   "mimetype": "text/x-python",
   "name": "python",
   "nbconvert_exporter": "python",
   "pygments_lexer": "ipython3",
   "version": "3.7.2"
  }
 },
 "nbformat": 4,
 "nbformat_minor": 2
}
