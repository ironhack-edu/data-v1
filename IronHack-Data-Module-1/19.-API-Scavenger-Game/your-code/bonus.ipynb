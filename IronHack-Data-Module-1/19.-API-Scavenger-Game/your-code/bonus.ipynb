{
 "cells": [
  {
   "cell_type": "markdown",
   "metadata": {},
   "source": [
    "# Additional Challenge for the Nerds"
   ]
  },
  {
   "cell_type": "markdown",
   "metadata": {},
   "source": [
    "### 1.- Create a new file called test.txt\n",
    "\n",
    "The command to create a new file called test.txt in IronHack-Data-Module-1/18.-API-Scavenger-Game/your-code is:"
   ]
  },
  {
   "cell_type": "markdown",
   "metadata": {},
   "source": [
    "````\n",
    "curl -i -X PUT -H 'Authorization: token <token>' -d '{\"path\": \"test.txt\", \"message\": \"Initial commit\", \"committer\": {\"name\": \"Eva\", \"email\": \"fakemail@fakemail.com\"}, \"content\": \"SGkgRXZhISBZb3UgZGlkIGl0IQ==\", \"branch\": \"master\"}' https://api.github.com/repos/evapanizo/IronHack-Data-Module-1/contents/18.-API-Scavenger-Game/your-code/test.txt  \n",
    "````"
   ]
  },
  {
   "cell_type": "markdown",
   "metadata": {},
   "source": [
    "Notice that you have to change the value of < token > with the value of your API key."
   ]
  }
 ],
 "metadata": {
  "kernelspec": {
   "display_name": "ironhack-3.7",
   "language": "python",
   "name": "ironhack-3.7"
  },
  "language_info": {
   "codemirror_mode": {
    "name": "ipython",
    "version": 3
   },
   "file_extension": ".py",
   "mimetype": "text/x-python",
   "name": "python",
   "nbconvert_exporter": "python",
   "pygments_lexer": "ipython3",
   "version": "3.7.2"
  }
 },
 "nbformat": 4,
 "nbformat_minor": 2
}
