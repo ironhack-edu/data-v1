{
 "cells": [
  {
   "cell_type": "code",
   "execution_count": 161,
   "metadata": {},
   "outputs": [],
   "source": [
    "# Libraries\n",
    "from scipy.stats import poisson\n",
    "from scipy.stats import norm\n",
    "from scipy.stats import binom\n",
    "from scipy.stats import chi2\n",
    "import pandas as pd"
   ]
  },
  {
   "cell_type": "markdown",
   "metadata": {},
   "source": [
    "## Question 1\n",
    "The following table indicates the number of 6-point scores in an American rugby match in the 1979 season.\n",
    "\n",
    "<img src=\"images/table1.png\" alt=\"table_one\" style=\"width: 200px;\"/>\n",
    "\n",
    "Based on these results, we create a Poisson distribution with the sample mean parameter  = 2.435. Is there any reason to believe that at a .05 level the number of scores is a Poisson variable?"
   ]
  },
  {
   "cell_type": "code",
   "execution_count": 186,
   "metadata": {},
   "outputs": [],
   "source": [
    "# Generate the data\n",
    "times = [35, 99, 104, 110, 62, 25, 10, 3]\n",
    "scores = list(range(len(times)))\n",
    "n_scores = len(scores)\n",
    "total_times = sum(times)\n",
    "mu = 2.435\n",
    "alpha = 0.05\n",
    "\n",
    "# Theoretical probabilities\n",
    "probs = [poisson.pmf(i, mu) for i in range(n_scores - 1)]\n",
    "probs.append(1 - sum(probs))\n",
    "\n",
    "# Expected frequencies\n",
    "f_exp = [p *total_times for p in probs]\n",
    "\n",
    "# Degrees of freedom\n",
    "# The default degrees of freedom, k-1, are for the case when no parameters of the distribution are estimated. \n",
    "# If p parameters are estimated then the correct degrees of freedom are k-1-p.\n",
    "# In our case, the mean value is estimated, so p = 1.\n",
    "dof = n_scores - 1 - 1\n",
    "\n",
    "# Chi Squared value\n",
    "chi = sum(pow(f_exp[i] - times[i], 2) / f_exp[i] for i in range(n_scores))\n",
    "\n",
    "# Critical value\n",
    "critical_value = chi2.ppf(q = 1 - alpha, df = dof)"
   ]
  },
  {
   "cell_type": "code",
   "execution_count": 187,
   "metadata": {},
   "outputs": [
    {
     "name": "stdout",
     "output_type": "stream",
     "text": [
      "Null hypothesis can't be rejected\n",
      "Chi:  6.4913106811098205\n",
      "Critical value:  12.591587243743977\n"
     ]
    }
   ],
   "source": [
    "# Ho: the sample has a Poisson distribution\n",
    "# Ha: the sample has a significantly different distribution to a Poisson distribution\n",
    "print(\"Null hypothesis can't be rejected\") if critical_value > chi else print(\"Null hypothesis rejected\")\n",
    "print(\"Chi: \", chi)\n",
    "print(\"Critical value: \", critical_value)"
   ]
  },
  {
   "cell_type": "code",
   "execution_count": 188,
   "metadata": {},
   "outputs": [
    {
     "data": {
      "text/html": [
       "<div>\n",
       "<style scoped>\n",
       "    .dataframe tbody tr th:only-of-type {\n",
       "        vertical-align: middle;\n",
       "    }\n",
       "\n",
       "    .dataframe tbody tr th {\n",
       "        vertical-align: top;\n",
       "    }\n",
       "\n",
       "    .dataframe thead th {\n",
       "        text-align: right;\n",
       "    }\n",
       "</style>\n",
       "<table border=\"1\" class=\"dataframe\">\n",
       "  <thead>\n",
       "    <tr style=\"text-align: right;\">\n",
       "      <th></th>\n",
       "      <th>Observed Values</th>\n",
       "      <th>Expected values</th>\n",
       "      <th>Theoretical probabilities</th>\n",
       "    </tr>\n",
       "  </thead>\n",
       "  <tbody>\n",
       "    <tr>\n",
       "      <th>0</th>\n",
       "      <td>35</td>\n",
       "      <td>39.243791</td>\n",
       "      <td>0.087598</td>\n",
       "    </tr>\n",
       "    <tr>\n",
       "      <th>1</th>\n",
       "      <td>99</td>\n",
       "      <td>95.558630</td>\n",
       "      <td>0.213301</td>\n",
       "    </tr>\n",
       "    <tr>\n",
       "      <th>2</th>\n",
       "      <td>104</td>\n",
       "      <td>116.342632</td>\n",
       "      <td>0.259693</td>\n",
       "    </tr>\n",
       "    <tr>\n",
       "      <th>3</th>\n",
       "      <td>110</td>\n",
       "      <td>94.431437</td>\n",
       "      <td>0.210784</td>\n",
       "    </tr>\n",
       "    <tr>\n",
       "      <th>4</th>\n",
       "      <td>62</td>\n",
       "      <td>57.485137</td>\n",
       "      <td>0.128315</td>\n",
       "    </tr>\n",
       "    <tr>\n",
       "      <th>5</th>\n",
       "      <td>25</td>\n",
       "      <td>27.995262</td>\n",
       "      <td>0.062489</td>\n",
       "    </tr>\n",
       "    <tr>\n",
       "      <th>6</th>\n",
       "      <td>10</td>\n",
       "      <td>11.361410</td>\n",
       "      <td>0.025360</td>\n",
       "    </tr>\n",
       "    <tr>\n",
       "      <th>7</th>\n",
       "      <td>3</td>\n",
       "      <td>5.581701</td>\n",
       "      <td>0.012459</td>\n",
       "    </tr>\n",
       "  </tbody>\n",
       "</table>\n",
       "</div>"
      ],
      "text/plain": [
       "   Observed Values  Expected values  Theoretical probabilities\n",
       "0               35        39.243791                   0.087598\n",
       "1               99        95.558630                   0.213301\n",
       "2              104       116.342632                   0.259693\n",
       "3              110        94.431437                   0.210784\n",
       "4               62        57.485137                   0.128315\n",
       "5               25        27.995262                   0.062489\n",
       "6               10        11.361410                   0.025360\n",
       "7                3         5.581701                   0.012459"
      ]
     },
     "execution_count": 188,
     "metadata": {},
     "output_type": "execute_result"
    }
   ],
   "source": [
    "# Distribution Summary\n",
    "summary = pd.DataFrame({'Observed Values': times, \n",
    "                        'Expected values': f_exp, \n",
    "                        'Theoretical probabilities': probs})\n",
    "summary"
   ]
  },
  {
   "cell_type": "markdown",
   "metadata": {},
   "source": [
    "## Question 2\n",
    "The following are the ordered values of a random sample of SAT scores (university entrance exam) for several students: 852, 875, 910, 933, 957, 963, 981, 998, 1007, 1010, 1015, 1018, 1023, 1035, 1048, 1063. In previous years, the scores were presented by N (985,50). Based on the sample, is there any reason to believe that there has been a change in the distribution of scores this year? Use the level alpha = 0.05. "
   ]
  },
  {
   "cell_type": "code",
   "execution_count": 189,
   "metadata": {},
   "outputs": [],
   "source": [
    "# Generate the data\n",
    "scores = [852, 875, 910, 933, 957, 963, 981, 998, 1007, 1010, 1015, 1018, 1023, 1035, 1048, 1063]\n",
    "total = sum(scores)\n",
    "n = len(scores)\n",
    "\n",
    "# Kolmogorov-Smirnov: empirical distribution function (ECDF) \n",
    "snx = [(i+1)/n for i in range(len(scores))]\n",
    "\n",
    "# Normal distribution\n",
    "fox = [norm.cdf(i, loc=985, scale=50) for i in scores]\n",
    "\n",
    "# Kolmogorov-Smirnov statistic\n",
    "summary = pd.DataFrame({'Ordered values': scores ,'Sn(x)': snx, 'Fo(x)': fox})\n",
    "summary['|Sn(x) - Fn(x)|'] = summary.apply(lambda x: abs(x['Sn(x)'] - x['Fo(x)']), axis=1)\n",
    "st = summary['|Sn(x) - Fn(x)|'].max()\n",
    "\n",
    "# Critical value for the Kolmogorov-Smirnov test with alpha = 0.05\n",
    "# Find that value here: http://www.real-statistics.com/statistics-tables/kolmogorov-smirnov-table/\n",
    "critical_value = 0.328"
   ]
  },
  {
   "cell_type": "code",
   "execution_count": 190,
   "metadata": {},
   "outputs": [
    {
     "name": "stdout",
     "output_type": "stream",
     "text": [
      "Null hypothesis can't be rejected\n",
      "K-S statistic:  0.12069279873114193\n",
      "Critical value:  0.328\n"
     ]
    }
   ],
   "source": [
    "# Ho: the sample has a normal distribution with N(985,50)\n",
    "# Ha: the sample has a significantly different distribution to a normal with N(985,50)\n",
    "print(\"Null hypothesis can't be rejected\") if critical_value > st else print(\"Null hypothesis rejected\")\n",
    "print(\"K-S statistic: \", st)\n",
    "print(\"Critical value: \", critical_value)"
   ]
  },
  {
   "cell_type": "code",
   "execution_count": 191,
   "metadata": {},
   "outputs": [
    {
     "data": {
      "text/html": [
       "<div>\n",
       "<style scoped>\n",
       "    .dataframe tbody tr th:only-of-type {\n",
       "        vertical-align: middle;\n",
       "    }\n",
       "\n",
       "    .dataframe tbody tr th {\n",
       "        vertical-align: top;\n",
       "    }\n",
       "\n",
       "    .dataframe thead th {\n",
       "        text-align: right;\n",
       "    }\n",
       "</style>\n",
       "<table border=\"1\" class=\"dataframe\">\n",
       "  <thead>\n",
       "    <tr style=\"text-align: right;\">\n",
       "      <th></th>\n",
       "      <th>Ordered values</th>\n",
       "      <th>Sn(x)</th>\n",
       "      <th>Fo(x)</th>\n",
       "      <th>|Sn(x) - Fn(x)|</th>\n",
       "    </tr>\n",
       "  </thead>\n",
       "  <tbody>\n",
       "    <tr>\n",
       "      <th>0</th>\n",
       "      <td>852</td>\n",
       "      <td>0.0625</td>\n",
       "      <td>0.003907</td>\n",
       "      <td>0.058593</td>\n",
       "    </tr>\n",
       "    <tr>\n",
       "      <th>1</th>\n",
       "      <td>875</td>\n",
       "      <td>0.1250</td>\n",
       "      <td>0.013903</td>\n",
       "      <td>0.111097</td>\n",
       "    </tr>\n",
       "    <tr>\n",
       "      <th>2</th>\n",
       "      <td>910</td>\n",
       "      <td>0.1875</td>\n",
       "      <td>0.066807</td>\n",
       "      <td>0.120693</td>\n",
       "    </tr>\n",
       "    <tr>\n",
       "      <th>3</th>\n",
       "      <td>933</td>\n",
       "      <td>0.2500</td>\n",
       "      <td>0.149170</td>\n",
       "      <td>0.100830</td>\n",
       "    </tr>\n",
       "    <tr>\n",
       "      <th>4</th>\n",
       "      <td>957</td>\n",
       "      <td>0.3125</td>\n",
       "      <td>0.287740</td>\n",
       "      <td>0.024760</td>\n",
       "    </tr>\n",
       "    <tr>\n",
       "      <th>5</th>\n",
       "      <td>963</td>\n",
       "      <td>0.3750</td>\n",
       "      <td>0.329969</td>\n",
       "      <td>0.045031</td>\n",
       "    </tr>\n",
       "    <tr>\n",
       "      <th>6</th>\n",
       "      <td>981</td>\n",
       "      <td>0.4375</td>\n",
       "      <td>0.468119</td>\n",
       "      <td>0.030619</td>\n",
       "    </tr>\n",
       "    <tr>\n",
       "      <th>7</th>\n",
       "      <td>998</td>\n",
       "      <td>0.5000</td>\n",
       "      <td>0.602568</td>\n",
       "      <td>0.102568</td>\n",
       "    </tr>\n",
       "    <tr>\n",
       "      <th>8</th>\n",
       "      <td>1007</td>\n",
       "      <td>0.5625</td>\n",
       "      <td>0.670031</td>\n",
       "      <td>0.107531</td>\n",
       "    </tr>\n",
       "    <tr>\n",
       "      <th>9</th>\n",
       "      <td>1010</td>\n",
       "      <td>0.6250</td>\n",
       "      <td>0.691462</td>\n",
       "      <td>0.066462</td>\n",
       "    </tr>\n",
       "    <tr>\n",
       "      <th>10</th>\n",
       "      <td>1015</td>\n",
       "      <td>0.6875</td>\n",
       "      <td>0.725747</td>\n",
       "      <td>0.038247</td>\n",
       "    </tr>\n",
       "    <tr>\n",
       "      <th>11</th>\n",
       "      <td>1018</td>\n",
       "      <td>0.7500</td>\n",
       "      <td>0.745373</td>\n",
       "      <td>0.004627</td>\n",
       "    </tr>\n",
       "    <tr>\n",
       "      <th>12</th>\n",
       "      <td>1023</td>\n",
       "      <td>0.8125</td>\n",
       "      <td>0.776373</td>\n",
       "      <td>0.036127</td>\n",
       "    </tr>\n",
       "    <tr>\n",
       "      <th>13</th>\n",
       "      <td>1035</td>\n",
       "      <td>0.8750</td>\n",
       "      <td>0.841345</td>\n",
       "      <td>0.033655</td>\n",
       "    </tr>\n",
       "    <tr>\n",
       "      <th>14</th>\n",
       "      <td>1048</td>\n",
       "      <td>0.9375</td>\n",
       "      <td>0.896165</td>\n",
       "      <td>0.041335</td>\n",
       "    </tr>\n",
       "    <tr>\n",
       "      <th>15</th>\n",
       "      <td>1063</td>\n",
       "      <td>1.0000</td>\n",
       "      <td>0.940620</td>\n",
       "      <td>0.059380</td>\n",
       "    </tr>\n",
       "  </tbody>\n",
       "</table>\n",
       "</div>"
      ],
      "text/plain": [
       "    Ordered values   Sn(x)     Fo(x)  |Sn(x) - Fn(x)|\n",
       "0              852  0.0625  0.003907         0.058593\n",
       "1              875  0.1250  0.013903         0.111097\n",
       "2              910  0.1875  0.066807         0.120693\n",
       "3              933  0.2500  0.149170         0.100830\n",
       "4              957  0.3125  0.287740         0.024760\n",
       "5              963  0.3750  0.329969         0.045031\n",
       "6              981  0.4375  0.468119         0.030619\n",
       "7              998  0.5000  0.602568         0.102568\n",
       "8             1007  0.5625  0.670031         0.107531\n",
       "9             1010  0.6250  0.691462         0.066462\n",
       "10            1015  0.6875  0.725747         0.038247\n",
       "11            1018  0.7500  0.745373         0.004627\n",
       "12            1023  0.8125  0.776373         0.036127\n",
       "13            1035  0.8750  0.841345         0.033655\n",
       "14            1048  0.9375  0.896165         0.041335\n",
       "15            1063  1.0000  0.940620         0.059380"
      ]
     },
     "execution_count": 191,
     "metadata": {},
     "output_type": "execute_result"
    }
   ],
   "source": [
    "# Kolmogorov-Smirnov Summary\n",
    "summary"
   ]
  },
  {
   "cell_type": "markdown",
   "metadata": {},
   "source": [
    "## Question 3\n",
    "Let's analyze a discrete distribution. To analyze the number of defective items in a factory in the city of Medellín, we took a random sample of n = 60 articles and observed the number of defectives in the following table:\n",
    "\n",
    "<img src=\"images/table2.png\" alt=\"table_two\" style=\"width: 400px;\"/>\n",
    "\n",
    "A poissón distribution was proposed since it is defined for x = 0,1,2,3, .... using the following model:\n",
    "<img src=\"images/image1.png\" alt=\"image_one\" style=\"width: 100px;\"/>\n",
    "\n",
    "Does the distribution of defective items follow this distribution?"
   ]
  },
  {
   "cell_type": "code",
   "execution_count": 234,
   "metadata": {},
   "outputs": [],
   "source": [
    "# Generate the data\n",
    "times = [32, 15, 9, 4]\n",
    "scores = list(range(len(times)))\n",
    "n_scores = len(scores)\n",
    "total_times = sum(times)\n",
    "mu = sum(times[i] * i for i in scores) / total_times\n",
    "alpha = 0.05\n",
    "\n",
    "# Theoretical probabilities\n",
    "probs = [poisson.pmf(i, mu) for i in range(n_scores - 1)]\n",
    "probs.append(1 - sum(probs))\n",
    "\n",
    "# Expected frequencies\n",
    "f_exp = [p *total_times for p in probs]"
   ]
  },
  {
   "cell_type": "code",
   "execution_count": 235,
   "metadata": {},
   "outputs": [
    {
     "data": {
      "text/html": [
       "<div>\n",
       "<style scoped>\n",
       "    .dataframe tbody tr th:only-of-type {\n",
       "        vertical-align: middle;\n",
       "    }\n",
       "\n",
       "    .dataframe tbody tr th {\n",
       "        vertical-align: top;\n",
       "    }\n",
       "\n",
       "    .dataframe thead th {\n",
       "        text-align: right;\n",
       "    }\n",
       "</style>\n",
       "<table border=\"1\" class=\"dataframe\">\n",
       "  <thead>\n",
       "    <tr style=\"text-align: right;\">\n",
       "      <th></th>\n",
       "      <th>Observed Values</th>\n",
       "      <th>Expected values</th>\n",
       "      <th>Theoretical probabilities</th>\n",
       "    </tr>\n",
       "  </thead>\n",
       "  <tbody>\n",
       "    <tr>\n",
       "      <th>0</th>\n",
       "      <td>32</td>\n",
       "      <td>28.341993</td>\n",
       "      <td>0.472367</td>\n",
       "    </tr>\n",
       "    <tr>\n",
       "      <th>1</th>\n",
       "      <td>15</td>\n",
       "      <td>21.256495</td>\n",
       "      <td>0.354275</td>\n",
       "    </tr>\n",
       "    <tr>\n",
       "      <th>2</th>\n",
       "      <td>9</td>\n",
       "      <td>7.971186</td>\n",
       "      <td>0.132853</td>\n",
       "    </tr>\n",
       "    <tr>\n",
       "      <th>3</th>\n",
       "      <td>4</td>\n",
       "      <td>2.430326</td>\n",
       "      <td>0.040505</td>\n",
       "    </tr>\n",
       "  </tbody>\n",
       "</table>\n",
       "</div>"
      ],
      "text/plain": [
       "   Observed Values  Expected values  Theoretical probabilities\n",
       "0               32        28.341993                   0.472367\n",
       "1               15        21.256495                   0.354275\n",
       "2                9         7.971186                   0.132853\n",
       "3                4         2.430326                   0.040505"
      ]
     },
     "execution_count": 235,
     "metadata": {},
     "output_type": "execute_result"
    }
   ],
   "source": [
    "# Distribution Summary\n",
    "summary = pd.DataFrame({'Observed Values': times, \n",
    "                        'Expected values': f_exp, \n",
    "                        'Theoretical probabilities': probs})\n",
    "summary"
   ]
  },
  {
   "cell_type": "code",
   "execution_count": 236,
   "metadata": {},
   "outputs": [],
   "source": [
    "# This test is invalid when the observed or expected frequencies in each category are too small. \n",
    "# A typical rule is that all of the observed and expected frequencies should be at least 5.\n",
    "# That's why we have to combine the the last two expected values\n",
    "f_exp[-2] = f_exp[-2] + f_exp[-1]\n",
    "del f_exp[-1]\n",
    "\n",
    "times[-2] = times[-2] + times[-1]\n",
    "del times[-1]\n",
    "\n",
    "probs[-2] = probs[-2] + probs[-1]\n",
    "del probs[-1]\n",
    "\n",
    "scores = list(range(len(times)))\n",
    "n_scores = len(scores)"
   ]
  },
  {
   "cell_type": "code",
   "execution_count": 237,
   "metadata": {},
   "outputs": [
    {
     "data": {
      "text/html": [
       "<div>\n",
       "<style scoped>\n",
       "    .dataframe tbody tr th:only-of-type {\n",
       "        vertical-align: middle;\n",
       "    }\n",
       "\n",
       "    .dataframe tbody tr th {\n",
       "        vertical-align: top;\n",
       "    }\n",
       "\n",
       "    .dataframe thead th {\n",
       "        text-align: right;\n",
       "    }\n",
       "</style>\n",
       "<table border=\"1\" class=\"dataframe\">\n",
       "  <thead>\n",
       "    <tr style=\"text-align: right;\">\n",
       "      <th></th>\n",
       "      <th>Observed Values</th>\n",
       "      <th>Expected values</th>\n",
       "      <th>Theoretical probabilities</th>\n",
       "    </tr>\n",
       "  </thead>\n",
       "  <tbody>\n",
       "    <tr>\n",
       "      <th>0</th>\n",
       "      <td>32</td>\n",
       "      <td>28.341993</td>\n",
       "      <td>0.472367</td>\n",
       "    </tr>\n",
       "    <tr>\n",
       "      <th>1</th>\n",
       "      <td>15</td>\n",
       "      <td>21.256495</td>\n",
       "      <td>0.354275</td>\n",
       "    </tr>\n",
       "    <tr>\n",
       "      <th>2</th>\n",
       "      <td>13</td>\n",
       "      <td>10.401512</td>\n",
       "      <td>0.173359</td>\n",
       "    </tr>\n",
       "  </tbody>\n",
       "</table>\n",
       "</div>"
      ],
      "text/plain": [
       "   Observed Values  Expected values  Theoretical probabilities\n",
       "0               32        28.341993                   0.472367\n",
       "1               15        21.256495                   0.354275\n",
       "2               13        10.401512                   0.173359"
      ]
     },
     "execution_count": 237,
     "metadata": {},
     "output_type": "execute_result"
    }
   ],
   "source": [
    "# Distribution Summary\n",
    "summary = pd.DataFrame({'Observed Values': times, \n",
    "                        'Expected values': f_exp, \n",
    "                        'Theoretical probabilities': probs})\n",
    "summary"
   ]
  },
  {
   "cell_type": "code",
   "execution_count": 238,
   "metadata": {},
   "outputs": [],
   "source": [
    "# Degrees of freedom\n",
    "dof = n_scores - 1 - 1\n",
    "\n",
    "# Chi Squared value\n",
    "chi = sum(pow(f_exp[i] - times[i], 2) / f_exp[i] for i in range(n_scores))\n",
    "\n",
    "# Critical value\n",
    "critical_value = chi2.ppf(q = 1 - alpha, df = dof)"
   ]
  },
  {
   "cell_type": "code",
   "execution_count": 239,
   "metadata": {},
   "outputs": [
    {
     "name": "stdout",
     "output_type": "stream",
     "text": [
      "Null hypothesis can't be rejected\n",
      "Chi:  2.9627716023964705\n",
      "Critical value:  3.841458820694124\n"
     ]
    }
   ],
   "source": [
    "# Ho: the sample has a Poisson distribution\n",
    "# Ha: the sample has a significantly different distribution to a Poisson distribution\n",
    "print(\"Null hypothesis can't be rejected\") if critical_value > chi else print(\"Null hypothesis rejected\")\n",
    "print(\"Chi: \", chi)\n",
    "print(\"Critical value: \", critical_value)"
   ]
  },
  {
   "cell_type": "markdown",
   "metadata": {},
   "source": [
    "## Question 4\n",
    "A quality control engineer takes a sample of 10 tires that come out of an assembly line, and would like to verify on the basis of the data that follows, if the number of tires with defects observed over 200 days, if it is true that 5% of all tires have defects (that is, if the sample comes from a binomial population with n = 10 and p = 0.05). \n",
    "\n",
    "<img src=\"images/table4.png\" alt=\"table_four\" style=\"width: 400px;\"/>"
   ]
  },
  {
   "cell_type": "code",
   "execution_count": 241,
   "metadata": {},
   "outputs": [],
   "source": [
    "# Generate the data\n",
    "samples = [138, 53, 9]\n",
    "defective = list(range(len(times)))\n",
    "n_scores = len(samples)\n",
    "total_samples = sum(samples)\n",
    "n = 10\n",
    "p = 0.05\n",
    "alpha = 0.05\n",
    "\n",
    "# Theoretical probabilities\n",
    "probs = [binom.pmf(i, n, p) for i in range(n_scores - 1)]\n",
    "probs.append(1 - sum(probs))\n",
    "\n",
    "# Expected frequencies\n",
    "f_exp = [p *total_samples for p in probs]\n",
    "\n",
    "# Degrees of freedom\n",
    "dof = n_scores - 1\n",
    "\n",
    "# Chi Squared value\n",
    "chi = sum(pow(f_exp[i] - samples[i], 2) / f_exp[i] for i in range(n_scores))\n",
    "\n",
    "# Critical value\n",
    "critical_value = chi2.ppf(q = 1 - alpha, df = dof)"
   ]
  },
  {
   "cell_type": "code",
   "execution_count": 242,
   "metadata": {},
   "outputs": [
    {
     "name": "stdout",
     "output_type": "stream",
     "text": [
      "Null hypothesis rejected\n",
      "Chi:  8.30617951954273\n",
      "Critical value:  5.991464547107979\n"
     ]
    }
   ],
   "source": [
    "# Ho: population is binomial\n",
    "# Ha: populations is not binomial\n",
    "print(\"Null hypothesis can't be rejected\") if critical_value > chi else print(\"Null hypothesis rejected\")\n",
    "print(\"Chi: \", chi)\n",
    "print(\"Critical value: \", critical_value)"
   ]
  },
  {
   "cell_type": "code",
   "execution_count": 243,
   "metadata": {},
   "outputs": [
    {
     "data": {
      "text/html": [
       "<div>\n",
       "<style scoped>\n",
       "    .dataframe tbody tr th:only-of-type {\n",
       "        vertical-align: middle;\n",
       "    }\n",
       "\n",
       "    .dataframe tbody tr th {\n",
       "        vertical-align: top;\n",
       "    }\n",
       "\n",
       "    .dataframe thead th {\n",
       "        text-align: right;\n",
       "    }\n",
       "</style>\n",
       "<table border=\"1\" class=\"dataframe\">\n",
       "  <thead>\n",
       "    <tr style=\"text-align: right;\">\n",
       "      <th></th>\n",
       "      <th>Observed Values</th>\n",
       "      <th>Expected values</th>\n",
       "      <th>Theoretical probabilities</th>\n",
       "    </tr>\n",
       "  </thead>\n",
       "  <tbody>\n",
       "    <tr>\n",
       "      <th>0</th>\n",
       "      <td>138</td>\n",
       "      <td>119.747388</td>\n",
       "      <td>0.598737</td>\n",
       "    </tr>\n",
       "    <tr>\n",
       "      <th>1</th>\n",
       "      <td>53</td>\n",
       "      <td>63.024941</td>\n",
       "      <td>0.315125</td>\n",
       "    </tr>\n",
       "    <tr>\n",
       "      <th>2</th>\n",
       "      <td>9</td>\n",
       "      <td>17.227671</td>\n",
       "      <td>0.086138</td>\n",
       "    </tr>\n",
       "  </tbody>\n",
       "</table>\n",
       "</div>"
      ],
      "text/plain": [
       "   Observed Values  Expected values  Theoretical probabilities\n",
       "0              138       119.747388                   0.598737\n",
       "1               53        63.024941                   0.315125\n",
       "2                9        17.227671                   0.086138"
      ]
     },
     "execution_count": 243,
     "metadata": {},
     "output_type": "execute_result"
    }
   ],
   "source": [
    "# Distribution Summary\n",
    "summary = pd.DataFrame({'Observed Values': samples, \n",
    "                        'Expected values': f_exp, \n",
    "                        'Theoretical probabilities': probs})\n",
    "summary"
   ]
  },
  {
   "cell_type": "markdown",
   "metadata": {},
   "source": [
    "## Question 5\n",
    "A researcher gathers information about the patterns of physical activity (AF) of children in the fifth grade of primary school of a public school. He defines three categories of physical activity (1 = Low, 2 = Medium, 3 = High). He also inquires about the regular consumption of sugary drinks at school, and defines two categories (1 = consumed, 0 = not consumed). We would like to evaluate if there is an association between patterns of physical activity and the consumption of sugary drinks for the children of this school, at a level of 5% significance. The results are in the following table: \n",
    "\n",
    "<img src=\"images/table3.png\" alt=\"table_three\" style=\"width: 400px;\"/>"
   ]
  },
  {
   "cell_type": "code",
   "execution_count": 245,
   "metadata": {},
   "outputs": [],
   "source": [
    "# Generate the data\n",
    "alpha = 0.05\n",
    "rows = 3 \n",
    "cols = 2\n",
    "scores = [32, 12, 14, 22, 6, 9]\n",
    "n_scores = len(scores)\n",
    "total_values = [[52, 43], [44, 36, 15]]\n",
    "total = 95\n",
    "\n",
    "# Expected frequencies\n",
    "f_exp = [x*y / total for y in table[1] for x in table[0]]\n",
    "\n",
    "# Degrees of freedom\n",
    "dof = (rows - 1)*(cols - 1)\n",
    "\n",
    "# Chi Squared value\n",
    "chi = sum(pow(f_exp[i] - scores[i], 2) / f_exp[i] for i in range(n_scores))\n",
    "\n",
    "# Critical value\n",
    "critical_value = chi2.ppf(q = 1 - alpha, df = 2)"
   ]
  },
  {
   "cell_type": "code",
   "execution_count": 246,
   "metadata": {},
   "outputs": [
    {
     "name": "stdout",
     "output_type": "stream",
     "text": [
      "Null hypothesis rejected\n",
      "Chi:  10.712198008709638\n",
      "Critical value:  5.991464547107979\n"
     ]
    }
   ],
   "source": [
    "# Ho: There is no association between the AF and the regular consumption of sugary drinks\n",
    "# Ha: There is a significant association between the AF and the regular consumption of sugary drinks\n",
    "print(\"Null hypothesis can't be rejected\") if critical_value > chi else print(\"Null hypothesis rejected\")\n",
    "print(\"Chi: \", chi)\n",
    "print(\"Critical value: \", critical_value)"
   ]
  },
  {
   "cell_type": "code",
   "execution_count": 247,
   "metadata": {},
   "outputs": [
    {
     "data": {
      "text/html": [
       "<div>\n",
       "<style scoped>\n",
       "    .dataframe tbody tr th:only-of-type {\n",
       "        vertical-align: middle;\n",
       "    }\n",
       "\n",
       "    .dataframe tbody tr th {\n",
       "        vertical-align: top;\n",
       "    }\n",
       "\n",
       "    .dataframe thead th {\n",
       "        text-align: right;\n",
       "    }\n",
       "</style>\n",
       "<table border=\"1\" class=\"dataframe\">\n",
       "  <thead>\n",
       "    <tr style=\"text-align: right;\">\n",
       "      <th></th>\n",
       "      <th>Observed values</th>\n",
       "      <th>Expected values</th>\n",
       "    </tr>\n",
       "  </thead>\n",
       "  <tbody>\n",
       "    <tr>\n",
       "      <th>0</th>\n",
       "      <td>32</td>\n",
       "      <td>24.084211</td>\n",
       "    </tr>\n",
       "    <tr>\n",
       "      <th>1</th>\n",
       "      <td>12</td>\n",
       "      <td>19.915789</td>\n",
       "    </tr>\n",
       "    <tr>\n",
       "      <th>2</th>\n",
       "      <td>14</td>\n",
       "      <td>19.705263</td>\n",
       "    </tr>\n",
       "    <tr>\n",
       "      <th>3</th>\n",
       "      <td>22</td>\n",
       "      <td>16.294737</td>\n",
       "    </tr>\n",
       "    <tr>\n",
       "      <th>4</th>\n",
       "      <td>6</td>\n",
       "      <td>8.210526</td>\n",
       "    </tr>\n",
       "    <tr>\n",
       "      <th>5</th>\n",
       "      <td>9</td>\n",
       "      <td>6.789474</td>\n",
       "    </tr>\n",
       "  </tbody>\n",
       "</table>\n",
       "</div>"
      ],
      "text/plain": [
       "   Observed values  Expected values\n",
       "0               32        24.084211\n",
       "1               12        19.915789\n",
       "2               14        19.705263\n",
       "3               22        16.294737\n",
       "4                6         8.210526\n",
       "5                9         6.789474"
      ]
     },
     "execution_count": 247,
     "metadata": {},
     "output_type": "execute_result"
    }
   ],
   "source": [
    "# Distribution Summary\n",
    "summary = pd.DataFrame({'Observed values': scores, \n",
    "                        'Expected values': f_exp})\n",
    "summary"
   ]
  }
 ],
 "metadata": {
  "kernelspec": {
   "display_name": "ironhack-3.7",
   "language": "python",
   "name": "ironhack-3.7"
  },
  "language_info": {
   "codemirror_mode": {
    "name": "ipython",
    "version": 3
   },
   "file_extension": ".py",
   "mimetype": "text/x-python",
   "name": "python",
   "nbconvert_exporter": "python",
   "pygments_lexer": "ipython3",
   "version": "3.7.2"
  }
 },
 "nbformat": 4,
 "nbformat_minor": 2
}
